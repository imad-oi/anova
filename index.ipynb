{
 "cells": [
  {
   "cell_type": "markdown",
   "metadata": {},
   "source": [
    "# Atelier  : ANOVA"
   ]
  },
  {
   "cell_type": "markdown",
   "metadata": {},
   "source": [
    "les noms  : \n",
    "1. OISSAFE Imad \n",
    "2. LATRACH EL Habib\n",
    "3. ENNASTY Hamza"
   ]
  },
  {
   "cell_type": "code",
   "execution_count": 1,
   "metadata": {},
   "outputs": [],
   "source": [
    "import numpy as np\n",
    "import pandas as pd\n",
    "import seaborn as sns\n",
    "from scipy.stats import f_oneway\n",
    "from statsmodels.stats.multicomp import pairwise_tukeyhsd\n",
    "import matplotlib.pyplot as plt"
   ]
  },
  {
   "cell_type": "markdown",
   "metadata": {},
   "source": [
    "## Partie 1 : ANOVA à un facteur avec mesures répétées "
   ]
  },
  {
   "cell_type": "markdown",
   "metadata": {},
   "source": [
    "Le jeu de données consiste en des mesures de pression artérielle de 15 patients effectuées à quatre moments différents (Time 1, Time 2, Time 3, Time 4). Chaque patient a été évalué à ces quatre périodes, et les données enregistrées représentent la pression artérielle mesurée à chaque session."
   ]
  },
  {
   "cell_type": "markdown",
   "metadata": {},
   "source": [
    "`les hypothèses`\n",
    "1. H0 (hypothèse nulle) : Il n'y a pas de différence significative entre les moyennes des mesures de pression artérielle à différents moments (Time 1, Time 2, Time 3, Time 4) et toutes les différences observées sont dues au hasard.\n",
    "2. H1 (hypothèse alternative) : Au moins une des moyennes des mesures de pression artérielle à différents moments est différente des autres."
   ]
  },
  {
   "cell_type": "code",
   "execution_count": 2,
   "metadata": {},
   "outputs": [],
   "source": [
    "import numpy as np\n",
    "import pandas as pd\n",
    "import seaborn as sns\n",
    "from scipy.stats import f_oneway , shapiro\n",
    "import matplotlib.pyplot as plt"
   ]
  },
  {
   "cell_type": "code",
   "execution_count": 3,
   "metadata": {},
   "outputs": [
    {
     "data": {
      "text/html": [
       "<div>\n",
       "<style scoped>\n",
       "    .dataframe tbody tr th:only-of-type {\n",
       "        vertical-align: middle;\n",
       "    }\n",
       "\n",
       "    .dataframe tbody tr th {\n",
       "        vertical-align: top;\n",
       "    }\n",
       "\n",
       "    .dataframe thead th {\n",
       "        text-align: right;\n",
       "    }\n",
       "</style>\n",
       "<table border=\"1\" class=\"dataframe\">\n",
       "  <thead>\n",
       "    <tr style=\"text-align: right;\">\n",
       "      <th></th>\n",
       "      <th>time1</th>\n",
       "      <th>time2</th>\n",
       "      <th>time3</th>\n",
       "      <th>time4</th>\n",
       "    </tr>\n",
       "  </thead>\n",
       "  <tbody>\n",
       "    <tr>\n",
       "      <th>0</th>\n",
       "      <td>110</td>\n",
       "      <td>149</td>\n",
       "      <td>145</td>\n",
       "      <td>134</td>\n",
       "    </tr>\n",
       "    <tr>\n",
       "      <th>1</th>\n",
       "      <td>113</td>\n",
       "      <td>133</td>\n",
       "      <td>134</td>\n",
       "      <td>125</td>\n",
       "    </tr>\n",
       "    <tr>\n",
       "      <th>2</th>\n",
       "      <td>113</td>\n",
       "      <td>134</td>\n",
       "      <td>139</td>\n",
       "      <td>136</td>\n",
       "    </tr>\n",
       "    <tr>\n",
       "      <th>3</th>\n",
       "      <td>149</td>\n",
       "      <td>127</td>\n",
       "      <td>129</td>\n",
       "      <td>150</td>\n",
       "    </tr>\n",
       "    <tr>\n",
       "      <th>4</th>\n",
       "      <td>119</td>\n",
       "      <td>147</td>\n",
       "      <td>129</td>\n",
       "      <td>123</td>\n",
       "    </tr>\n",
       "    <tr>\n",
       "      <th>5</th>\n",
       "      <td>129</td>\n",
       "      <td>135</td>\n",
       "      <td>124</td>\n",
       "      <td>123</td>\n",
       "    </tr>\n",
       "    <tr>\n",
       "      <th>6</th>\n",
       "      <td>131</td>\n",
       "      <td>123</td>\n",
       "      <td>149</td>\n",
       "      <td>150</td>\n",
       "    </tr>\n",
       "    <tr>\n",
       "      <th>7</th>\n",
       "      <td>146</td>\n",
       "      <td>118</td>\n",
       "      <td>142</td>\n",
       "      <td>138</td>\n",
       "    </tr>\n",
       "    <tr>\n",
       "      <th>8</th>\n",
       "      <td>133</td>\n",
       "      <td>119</td>\n",
       "      <td>111</td>\n",
       "      <td>120</td>\n",
       "    </tr>\n",
       "    <tr>\n",
       "      <th>9</th>\n",
       "      <td>116</td>\n",
       "      <td>130</td>\n",
       "      <td>119</td>\n",
       "      <td>135</td>\n",
       "    </tr>\n",
       "    <tr>\n",
       "      <th>10</th>\n",
       "      <td>134</td>\n",
       "      <td>126</td>\n",
       "      <td>142</td>\n",
       "      <td>120</td>\n",
       "    </tr>\n",
       "    <tr>\n",
       "      <th>11</th>\n",
       "      <td>134</td>\n",
       "      <td>115</td>\n",
       "      <td>141</td>\n",
       "      <td>120</td>\n",
       "    </tr>\n",
       "    <tr>\n",
       "      <th>12</th>\n",
       "      <td>122</td>\n",
       "      <td>125</td>\n",
       "      <td>120</td>\n",
       "      <td>130</td>\n",
       "    </tr>\n",
       "    <tr>\n",
       "      <th>13</th>\n",
       "      <td>111</td>\n",
       "      <td>110</td>\n",
       "      <td>133</td>\n",
       "      <td>98</td>\n",
       "    </tr>\n",
       "    <tr>\n",
       "      <th>14</th>\n",
       "      <td>148</td>\n",
       "      <td>128</td>\n",
       "      <td>145</td>\n",
       "      <td>101</td>\n",
       "    </tr>\n",
       "  </tbody>\n",
       "</table>\n",
       "</div>"
      ],
      "text/plain": [
       "    time1  time2  time3  time4\n",
       "0     110    149    145    134\n",
       "1     113    133    134    125\n",
       "2     113    134    139    136\n",
       "3     149    127    129    150\n",
       "4     119    147    129    123\n",
       "5     129    135    124    123\n",
       "6     131    123    149    150\n",
       "7     146    118    142    138\n",
       "8     133    119    111    120\n",
       "9     116    130    119    135\n",
       "10    134    126    142    120\n",
       "11    134    115    141    120\n",
       "12    122    125    120    130\n",
       "13    111    110    133     98\n",
       "14    148    128    145    101"
      ]
     },
     "execution_count": 3,
     "metadata": {},
     "output_type": "execute_result"
    }
   ],
   "source": [
    "# importation de jeu donnees\n",
    "\n",
    "df = pd.read_csv('dataset_patients.csv').drop(columns=['Unnamed: 0'])\n",
    "df"
   ]
  },
  {
   "cell_type": "markdown",
   "metadata": {},
   "source": [
    "`visualisation de donnees`"
   ]
  },
  {
   "cell_type": "code",
   "execution_count": 4,
   "metadata": {},
   "outputs": [
    {
     "data": {
      "image/png": "[encoded data removed]",
      "text/plain": [
       "<Figure size 640x480 with 1 Axes>"
      ]
     },
     "metadata": {},
     "output_type": "display_data"
    }
   ],
   "source": [
    "\n",
    "\n",
    "# Melt DataFrame from wide format to long format for easier plotting\n",
    "df_melted = df.melt(var_name=\"Time\", value_name=\"Value\")\n",
    "\n",
    "# Create a boxplot\n",
    "sns.boxplot(x='Time', y='Value', data=df_melted)\n",
    "plt.title('Boxplot of Measurements over Time')\n",
    "plt.show()\n"
   ]
  },
  {
   "cell_type": "markdown",
   "metadata": {},
   "source": [
    " les boîtes dans le boxplot sont relativement similaires en taille et que les médianes sont proches les unes des autres, cela suggère que la dispersion des données à travers les différents moments est similaire."
   ]
  },
  {
   "cell_type": "markdown",
   "metadata": {},
   "source": [
    "**test de normalite des groupes**"
   ]
  },
  {
   "cell_type": "code",
   "execution_count": 5,
   "metadata": {},
   "outputs": [
    {
     "name": "stdout",
     "output_type": "stream",
     "text": [
      "time1 ShapiroResult(statistic=0.9114684462547302, pvalue=0.1426154524087906)\n",
      "---> la distribution de time1 est normale\n",
      "--------------------------------------------------\n",
      "time2 ShapiroResult(statistic=0.9630049467086792, pvalue=0.7444441914558411)\n",
      "---> la distribution de time2 est normale\n",
      "--------------------------------------------------\n",
      "time3 ShapiroResult(statistic=0.9454562067985535, pvalue=0.4559266269207001)\n",
      "---> la distribution de time3 est normale\n",
      "--------------------------------------------------\n",
      "time4 ShapiroResult(statistic=0.9387900233268738, pvalue=0.36739906668663025)\n",
      "---> la distribution de time4 est normale\n",
      "--------------------------------------------------\n"
     ]
    }
   ],
   "source": [
    "# test de shapiro pour verifier la normalite des donnees\n",
    "\n",
    "for i in df.columns:\n",
    "    print(i, shapiro(df[i]))\n",
    "\n",
    "    if shapiro(df[i])[1] < 0.05:\n",
    "        print('---> la distribution de', i, 'n est pas normale')\n",
    "        print('-'*50)\n",
    "    else:\n",
    "        print('---> la distribution de', i, 'est normale')\n",
    "        print('-'*50)\n"
   ]
  },
  {
   "cell_type": "markdown",
   "metadata": {},
   "source": [
    "**test de homogeneite des variances**"
   ]
  },
  {
   "cell_type": "code",
   "execution_count": 6,
   "metadata": {},
   "outputs": [
    {
     "name": "stdout",
     "output_type": "stream",
     "text": [
      "Statistics=0.721, p=0.544\n",
      "les variances sont egales\n"
     ]
    }
   ],
   "source": [
    "from scipy.stats import levene\n",
    "\n",
    "# Perform Levene's test\n",
    "stat, p = levene(df['time1'], df['time2'], df['time3'], df['time4'])\n",
    "\n",
    "# affichage des resultats\n",
    "print('Statistics=%.3f, p=%.3f' % (stat, p))\n",
    "\n",
    "if p > 0.05:\n",
    "    print(\"les variances sont egales\")\n",
    "else:\n",
    "    print(\"les variances ne sont pas egales\")"
   ]
  },
  {
   "cell_type": "markdown",
   "metadata": {},
   "source": [
    "les condition sont vérifier, donc on peut appliquer le test ANOVA"
   ]
  },
  {
   "cell_type": "code",
   "execution_count": 7,
   "metadata": {},
   "outputs": [
    {
     "name": "stdout",
     "output_type": "stream",
     "text": [
      "Resultat de test : F = 0.8900658614212926 , p = 0.4519906064207322\n"
     ]
    }
   ],
   "source": [
    "\n",
    "f_val, p_val = f_oneway(df['time1'], df['time2'], df['time3'], df['time4'])\n",
    "\n",
    "print(\"Resultat de test : F =\", f_val, \", p =\", p_val)"
   ]
  },
  {
   "cell_type": "markdown",
   "metadata": {},
   "source": [
    "`interpretation du resultats`"
   ]
  },
  {
   "cell_type": "markdown",
   "metadata": {},
   "source": [
    "1. L'F-score (0.89) est relativement proche de 1, ce qui suggère que la variance entre les moyennes des groupes est similaire à la variance à l'intérieur des groupes.\n",
    "\n",
    "2. La p-value associée (0.452) est supérieure à un seuil de signification de 0.05. Cette p-value élevée indique qu'il n'y a pas suffisamment de preuves pour rejeter l'hypothèse nulle. En d'autres termes, cela suggère qu'il n'y a pas de différence significative entre les moyennes des mesures de pression artérielle à différents moments (Time 1, Time 2, Time 3, Time 4)."
   ]
  },
  {
   "cell_type": "markdown",
   "metadata": {},
   "source": [
    "# Partie 2 :ANOVA à un facteur "
   ]
  },
  {
   "cell_type": "markdown",
   "metadata": {},
   "source": [
    "Ce jeu de données semble être une étude sur la prise de poids des rats en fonction de différents régimes\n",
    "alimentaires (quantités élevées/faibles de bœuf, porc et céréales). Le design est un plan en blocs randomisés\n",
    "avec plusieurs facteurs"
   ]
  },
  {
   "cell_type": "code",
   "execution_count": 8,
   "metadata": {},
   "outputs": [
    {
     "data": {
      "text/html": [
       "<div>\n",
       "<style scoped>\n",
       "    .dataframe tbody tr th:only-of-type {\n",
       "        vertical-align: middle;\n",
       "    }\n",
       "\n",
       "    .dataframe tbody tr th {\n",
       "        vertical-align: top;\n",
       "    }\n",
       "\n",
       "    .dataframe thead th {\n",
       "        text-align: right;\n",
       "    }\n",
       "</style>\n",
       "<table border=\"1\" class=\"dataframe\">\n",
       "  <thead>\n",
       "    <tr style=\"text-align: right;\">\n",
       "      <th></th>\n",
       "      <th>Weight_Gain</th>\n",
       "      <th>Diet_Amount</th>\n",
       "      <th>Diet_Type</th>\n",
       "    </tr>\n",
       "  </thead>\n",
       "  <tbody>\n",
       "    <tr>\n",
       "      <th>0</th>\n",
       "      <td>118</td>\n",
       "      <td>1</td>\n",
       "      <td>1</td>\n",
       "    </tr>\n",
       "    <tr>\n",
       "      <th>1</th>\n",
       "      <td>117</td>\n",
       "      <td>1</td>\n",
       "      <td>1</td>\n",
       "    </tr>\n",
       "    <tr>\n",
       "      <th>2</th>\n",
       "      <td>111</td>\n",
       "      <td>1</td>\n",
       "      <td>1</td>\n",
       "    </tr>\n",
       "    <tr>\n",
       "      <th>3</th>\n",
       "      <td>107</td>\n",
       "      <td>1</td>\n",
       "      <td>1</td>\n",
       "    </tr>\n",
       "    <tr>\n",
       "      <th>4</th>\n",
       "      <td>104</td>\n",
       "      <td>1</td>\n",
       "      <td>1</td>\n",
       "    </tr>\n",
       "  </tbody>\n",
       "</table>\n",
       "</div>"
      ],
      "text/plain": [
       "   Weight_Gain  Diet_Amount  Diet_Type\n",
       "0          118            1          1\n",
       "1          117            1          1\n",
       "2          111            1          1\n",
       "3          107            1          1\n",
       "4          104            1          1"
      ]
     },
     "execution_count": 8,
     "metadata": {},
     "output_type": "execute_result"
    }
   ],
   "source": [
    "dataset = pd.read_csv('dataset.csv', sep=\";\", decimal='.')\n",
    "dataset.head()"
   ]
  },
  {
   "cell_type": "markdown",
   "metadata": {},
   "source": [
    "1 : On veut étudier ici l'influence de type de régime alimentaire (Diet Type) sur le prise de poids des rats(Weight Gain).\n",
    "\n",
    "On peut visualiser l'influence de la type de régime alimentaire en affichant ces boîtes à moustaches\n"
   ]
  },
  {
   "cell_type": "code",
   "execution_count": 9,
   "metadata": {},
   "outputs": [
    {
     "data": {
      "image/png": "[encoded data removed]",
      "text/plain": [
       "<Figure size 640x480 with 1 Axes>"
      ]
     },
     "metadata": {},
     "output_type": "display_data"
    }
   ],
   "source": [
    "sns.set()\n",
    "\n",
    "ax = sns.boxplot(x=\"Diet_Type\", y=\"Weight_Gain\", data=dataset, color='white')\n",
    "plt.xlabel(' type de régime alimentaire (1 = bœuf, 2 = porc, 3 = céréales)')\n",
    "plt.ylabel('prise de poids des rats (en grammes)')\n",
    "plt.title('Boîtes à moustaches')\n",
    "plt.show()"
   ]
  },
  {
   "cell_type": "markdown",
   "metadata": {},
   "source": [
    "les boîtes à moustaches ne sont pas très distinctes, même s'il y a un peu plus de variance cela suggère que les distributions de la prise de poids ne sont pas significativement différentes enter les type de régime alimentaire"
   ]
  },
  {
   "cell_type": "code",
   "execution_count": 10,
   "metadata": {},
   "outputs": [
    {
     "data": {
      "text/html": [
       "<div>\n",
       "<style scoped>\n",
       "    .dataframe tbody tr th:only-of-type {\n",
       "        vertical-align: middle;\n",
       "    }\n",
       "\n",
       "    .dataframe tbody tr th {\n",
       "        vertical-align: top;\n",
       "    }\n",
       "\n",
       "    .dataframe thead th {\n",
       "        text-align: right;\n",
       "    }\n",
       "</style>\n",
       "<table border=\"1\" class=\"dataframe\">\n",
       "  <thead>\n",
       "    <tr style=\"text-align: right;\">\n",
       "      <th></th>\n",
       "      <th>sum_sq</th>\n",
       "      <th>df</th>\n",
       "      <th>F</th>\n",
       "      <th>PR(&gt;F)</th>\n",
       "    </tr>\n",
       "  </thead>\n",
       "  <tbody>\n",
       "    <tr>\n",
       "      <th>Diet_Type</th>\n",
       "      <td>220.900000</td>\n",
       "      <td>1.0</td>\n",
       "      <td>0.801863</td>\n",
       "      <td>0.374238</td>\n",
       "    </tr>\n",
       "    <tr>\n",
       "      <th>Residual</th>\n",
       "      <td>15978.033333</td>\n",
       "      <td>58.0</td>\n",
       "      <td>NaN</td>\n",
       "      <td>NaN</td>\n",
       "    </tr>\n",
       "  </tbody>\n",
       "</table>\n",
       "</div>"
      ],
      "text/plain": [
       "                 sum_sq    df         F    PR(>F)\n",
       "Diet_Type    220.900000   1.0  0.801863  0.374238\n",
       "Residual   15978.033333  58.0       NaN       NaN"
      ]
     },
     "execution_count": 10,
     "metadata": {},
     "output_type": "execute_result"
    }
   ],
   "source": [
    "\n",
    "import statsmodels.formula.api as smf\n",
    "import statsmodels.api as sm\n",
    "\n",
    "anova_variete = smf.ols('Weight_Gain~Diet_Type', data=dataset).fit()\n",
    "sm.stats.anova_lm(anova_variete, typ=2)"
   ]
  },
  {
   "cell_type": "markdown",
   "metadata": {},
   "source": [
    "Pour le facteur 'Diet_Type', la statistique de test F est de 0.801863 avec une valeur p de 0.374238.\n",
    "Puisque la valeur p (0.374238) est supérieure au niveau de signification de 0.05, on ne rejette pas l'hypothèse nulle. donc les distributions de la prise de poids ne sont pas significativement différentes enter les type de régime alimentaire"
   ]
  },
  {
   "cell_type": "markdown",
   "metadata": {},
   "source": [
    "2 : On veut étudier ici l'influence de quantité de régime alimentaire (Diet Amount) sur le prise de poids des rats(Weight Gain)."
   ]
  },
  {
   "cell_type": "code",
   "execution_count": 11,
   "metadata": {},
   "outputs": [
    {
     "data": {
      "image/png": "[encoded data removed]",
      "text/plain": [
       "<Figure size 640x480 with 1 Axes>"
      ]
     },
     "metadata": {},
     "output_type": "display_data"
    }
   ],
   "source": [
    "sns.set()\n",
    "\n",
    "ax = sns.boxplot(x=\"Diet_Amount\", y=\"Weight_Gain\", data=dataset, color='white')\n",
    "plt.xlabel(' quantité de régime alimentaire (1 = élevée, 2 = faible)')\n",
    "plt.ylabel('prise de poids des rats (en grammes)')\n",
    "plt.title('Boîtes à moustaches')\n",
    "plt.show()"
   ]
  },
  {
   "cell_type": "markdown",
   "metadata": {},
   "source": [
    "les boîtes à moustaches sont distinctes, cela suggère que les distributions de la prise de poids est significativement différente entre les différents niveaux de quantité de régime alimentaire"
   ]
  },
  {
   "cell_type": "code",
   "execution_count": 12,
   "metadata": {},
   "outputs": [
    {
     "data": {
      "text/html": [
       "<div>\n",
       "<style scoped>\n",
       "    .dataframe tbody tr th:only-of-type {\n",
       "        vertical-align: middle;\n",
       "    }\n",
       "\n",
       "    .dataframe tbody tr th {\n",
       "        vertical-align: top;\n",
       "    }\n",
       "\n",
       "    .dataframe thead th {\n",
       "        text-align: right;\n",
       "    }\n",
       "</style>\n",
       "<table border=\"1\" class=\"dataframe\">\n",
       "  <thead>\n",
       "    <tr style=\"text-align: right;\">\n",
       "      <th></th>\n",
       "      <th>sum_sq</th>\n",
       "      <th>df</th>\n",
       "      <th>F</th>\n",
       "      <th>PR(&gt;F)</th>\n",
       "    </tr>\n",
       "  </thead>\n",
       "  <tbody>\n",
       "    <tr>\n",
       "      <th>Diet_Amount</th>\n",
       "      <td>3168.266667</td>\n",
       "      <td>1.0</td>\n",
       "      <td>14.102077</td>\n",
       "      <td>0.000403</td>\n",
       "    </tr>\n",
       "    <tr>\n",
       "      <th>Residual</th>\n",
       "      <td>13030.666667</td>\n",
       "      <td>58.0</td>\n",
       "      <td>NaN</td>\n",
       "      <td>NaN</td>\n",
       "    </tr>\n",
       "  </tbody>\n",
       "</table>\n",
       "</div>"
      ],
      "text/plain": [
       "                   sum_sq    df          F    PR(>F)\n",
       "Diet_Amount   3168.266667   1.0  14.102077  0.000403\n",
       "Residual     13030.666667  58.0        NaN       NaN"
      ]
     },
     "execution_count": 12,
     "metadata": {},
     "output_type": "execute_result"
    }
   ],
   "source": [
    "anova_variete = smf.ols('Weight_Gain~Diet_Amount', data=dataset).fit()\n",
    "sm.stats.anova_lm(anova_variete, typ=2)"
   ]
  },
  {
   "cell_type": "markdown",
   "metadata": {},
   "source": [
    "Pour le facteur quantité de régime alimentaire (Diet Amount), la statistique de test F est de 14.102077 avec une valeur p très faible de 0.000403.\n",
    "Puisque la valeur p est inférieure au niveau de signification de 0.05, on rejette l'hypothèse nulle.\n",
    "Il y a des preuves statistiques suffisantes pour affirmer que la variation dans la prise de poids des rats est significativement différente entre les différents niveaux de (Diet Amount)."
   ]
  },
  {
   "cell_type": "markdown",
   "metadata": {},
   "source": [
    "## Partie 3 : ANOVA à 2 facteurs"
   ]
  },
  {
   "cell_type": "markdown",
   "metadata": {},
   "source": [
    "### 1. Modèles sans intéraction"
   ]
  },
  {
   "cell_type": "code",
   "execution_count": 13,
   "metadata": {},
   "outputs": [
    {
     "data": {
      "text/html": [
       "<div>\n",
       "<style scoped>\n",
       "    .dataframe tbody tr th:only-of-type {\n",
       "        vertical-align: middle;\n",
       "    }\n",
       "\n",
       "    .dataframe tbody tr th {\n",
       "        vertical-align: top;\n",
       "    }\n",
       "\n",
       "    .dataframe thead th {\n",
       "        text-align: right;\n",
       "    }\n",
       "</style>\n",
       "<table border=\"1\" class=\"dataframe\">\n",
       "  <thead>\n",
       "    <tr style=\"text-align: right;\">\n",
       "      <th></th>\n",
       "      <th>sum_sq</th>\n",
       "      <th>df</th>\n",
       "      <th>F</th>\n",
       "      <th>PR(&gt;F)</th>\n",
       "    </tr>\n",
       "  </thead>\n",
       "  <tbody>\n",
       "    <tr>\n",
       "      <th>Diet_Type</th>\n",
       "      <td>220.900000</td>\n",
       "      <td>1.0</td>\n",
       "      <td>0.982945</td>\n",
       "      <td>0.325663</td>\n",
       "    </tr>\n",
       "    <tr>\n",
       "      <th>Diet_Amount</th>\n",
       "      <td>3168.266667</td>\n",
       "      <td>1.0</td>\n",
       "      <td>14.097930</td>\n",
       "      <td>0.000409</td>\n",
       "    </tr>\n",
       "    <tr>\n",
       "      <th>Residual</th>\n",
       "      <td>12809.766667</td>\n",
       "      <td>57.0</td>\n",
       "      <td>NaN</td>\n",
       "      <td>NaN</td>\n",
       "    </tr>\n",
       "  </tbody>\n",
       "</table>\n",
       "</div>"
      ],
      "text/plain": [
       "                   sum_sq    df          F    PR(>F)\n",
       "Diet_Type      220.900000   1.0   0.982945  0.325663\n",
       "Diet_Amount   3168.266667   1.0  14.097930  0.000409\n",
       "Residual     12809.766667  57.0        NaN       NaN"
      ]
     },
     "execution_count": 13,
     "metadata": {},
     "output_type": "execute_result"
    }
   ],
   "source": [
    "anova1_sans_inter = smf.ols('Weight_Gain~Diet_Type+Diet_Amount', data=dataset).fit() # modèle anova sans interaction entre les facteurs \n",
    "sm.stats.anova_lm(anova1_sans_inter, typ=2)"
   ]
  },
  {
   "cell_type": "markdown",
   "metadata": {},
   "source": [
    "La formule `'Weight_Gain~Diet_Type+Diet_Amount'` spécifie un modèle qui prend en compte les effets principaux à la fois du type de régime alimentaire et de la quantité de régime alimentaire pour modéliser le gain de poids des rats.\n",
    "\n",
    "`Diet_Type :`\n",
    "\n",
    "La p-valeur de 0.3257 est supérieure à 0.05. Cela suggère que le type de régime alimentaire seul n'a pas d'effet statistiquement significatif sur le gain de poids des rats.\n",
    "\n",
    "`Diet_Amount :`\n",
    "\n",
    "La p-valeur de 0.0004 est inférieure à 0.05.Cela suggère que la quantité de régime alimentaire seul a un effet statistiquement significatif sur le gain de poids des rats."
   ]
  },
  {
   "cell_type": "code",
   "execution_count": 14,
   "metadata": {},
   "outputs": [
    {
     "data": {
      "text/html": [
       "<div>\n",
       "<style scoped>\n",
       "    .dataframe tbody tr th:only-of-type {\n",
       "        vertical-align: middle;\n",
       "    }\n",
       "\n",
       "    .dataframe tbody tr th {\n",
       "        vertical-align: top;\n",
       "    }\n",
       "\n",
       "    .dataframe thead th {\n",
       "        text-align: right;\n",
       "    }\n",
       "</style>\n",
       "<table border=\"1\" class=\"dataframe\">\n",
       "  <thead>\n",
       "    <tr style=\"text-align: right;\">\n",
       "      <th></th>\n",
       "      <th>sum_sq</th>\n",
       "      <th>df</th>\n",
       "      <th>F</th>\n",
       "      <th>PR(&gt;F)</th>\n",
       "    </tr>\n",
       "  </thead>\n",
       "  <tbody>\n",
       "    <tr>\n",
       "      <th>Diet_Amount</th>\n",
       "      <td>3168.266667</td>\n",
       "      <td>1.0</td>\n",
       "      <td>14.102077</td>\n",
       "      <td>0.000403</td>\n",
       "    </tr>\n",
       "    <tr>\n",
       "      <th>Residual</th>\n",
       "      <td>13030.666667</td>\n",
       "      <td>58.0</td>\n",
       "      <td>NaN</td>\n",
       "      <td>NaN</td>\n",
       "    </tr>\n",
       "  </tbody>\n",
       "</table>\n",
       "</div>"
      ],
      "text/plain": [
       "                   sum_sq    df          F    PR(>F)\n",
       "Diet_Amount   3168.266667   1.0  14.102077  0.000403\n",
       "Residual     13030.666667  58.0        NaN       NaN"
      ]
     },
     "execution_count": 14,
     "metadata": {},
     "output_type": "execute_result"
    }
   ],
   "source": [
    "anova2_sans_inter = smf.ols('Weight_Gain~Diet_Amount-Diet_Type', data=dataset).fit() # considérer uniquement l'effet de la quantité de régime alimentaire\n",
    "sm.stats.anova_lm(anova2_sans_inter, typ=2)"
   ]
  },
  {
   "cell_type": "markdown",
   "metadata": {},
   "source": [
    "La formule `'Weight_Gain~Diet_Amount-Diet_Type'` spécifie un modèle qui se concentre sur l'effet principal de la quantité de régime alimentaire, en excluant l'influence du type de régime alimentaire dans la modélisation du gain de poids des rats."
   ]
  },
  {
   "cell_type": "markdown",
   "metadata": {},
   "source": [
    "### 2. Modèle avec intéraction"
   ]
  },
  {
   "cell_type": "code",
   "execution_count": 15,
   "metadata": {},
   "outputs": [
    {
     "data": {
      "text/html": [
       "<div>\n",
       "<style scoped>\n",
       "    .dataframe tbody tr th:only-of-type {\n",
       "        vertical-align: middle;\n",
       "    }\n",
       "\n",
       "    .dataframe tbody tr th {\n",
       "        vertical-align: top;\n",
       "    }\n",
       "\n",
       "    .dataframe thead th {\n",
       "        text-align: right;\n",
       "    }\n",
       "</style>\n",
       "<table border=\"1\" class=\"dataframe\">\n",
       "  <thead>\n",
       "    <tr style=\"text-align: right;\">\n",
       "      <th></th>\n",
       "      <th>sum_sq</th>\n",
       "      <th>df</th>\n",
       "      <th>F</th>\n",
       "      <th>PR(&gt;F)</th>\n",
       "    </tr>\n",
       "  </thead>\n",
       "  <tbody>\n",
       "    <tr>\n",
       "      <th>Diet_Type</th>\n",
       "      <td>220.900000</td>\n",
       "      <td>1.0</td>\n",
       "      <td>1.037249</td>\n",
       "      <td>0.312842</td>\n",
       "    </tr>\n",
       "    <tr>\n",
       "      <th>Diet_Amount</th>\n",
       "      <td>3168.266667</td>\n",
       "      <td>1.0</td>\n",
       "      <td>14.876778</td>\n",
       "      <td>0.000299</td>\n",
       "    </tr>\n",
       "    <tr>\n",
       "      <th>Diet_Type:Diet_Amount</th>\n",
       "      <td>883.600000</td>\n",
       "      <td>1.0</td>\n",
       "      <td>4.148995</td>\n",
       "      <td>0.046397</td>\n",
       "    </tr>\n",
       "    <tr>\n",
       "      <th>Residual</th>\n",
       "      <td>11926.166667</td>\n",
       "      <td>56.0</td>\n",
       "      <td>NaN</td>\n",
       "      <td>NaN</td>\n",
       "    </tr>\n",
       "  </tbody>\n",
       "</table>\n",
       "</div>"
      ],
      "text/plain": [
       "                             sum_sq    df          F    PR(>F)\n",
       "Diet_Type                220.900000   1.0   1.037249  0.312842\n",
       "Diet_Amount             3168.266667   1.0  14.876778  0.000299\n",
       "Diet_Type:Diet_Amount    883.600000   1.0   4.148995  0.046397\n",
       "Residual               11926.166667  56.0        NaN       NaN"
      ]
     },
     "execution_count": 15,
     "metadata": {},
     "output_type": "execute_result"
    }
   ],
   "source": [
    "anova2_avec_inter = smf.ols('Weight_Gain~Diet_Type*Diet_Amount', data=dataset).fit() # modèle anova à 2 facteurs avec interaction entre les facteurs\n",
    "sm.stats.anova_lm(anova2_avec_inter, typ=2) "
   ]
  },
  {
   "cell_type": "markdown",
   "metadata": {},
   "source": [
    "La formule `'Weight_Gain~Diet_Type*Diet_Amount'` spécifie un modèle qui examine à la fois les effets principaux de \"Diet_Type\" et \"Diet_Amount\" ainsi que leur interaction,\n",
    "\n",
    "Pour \"Diet_Type\", la p-valeur est 0.3128, supérieure à 0.05. On ne rejette pas l'hypothèse nulle, indiquant que le type de régime alimentaire seul n'a pas un effet significatif sur le gain de poids des rats.\n",
    "\n",
    "Pour \"Diet_Amount\", la p-valeur est 0.0003, inférieure à 0.05. On rejette l'hypothèse nulle, suggérant que la quantité de régime alimentaire a un effet significatif sur le gain de poids des rats.\n",
    "\n",
    "Pour l'interaction \"Diet_Type:Diet_Amount\", la p-valeur est 0.0464, inférieure à 0.05. On rejette l'hypothèse nulle, indiquant que l'effet combiné de \"Diet_Type\" et \"Diet_Amount\" a un impact significatif sur le gain de poids des rats."
   ]
  }
 ],
 "metadata": {
  "kernelspec": {
   "display_name": "Python 3",
   "language": "python",
   "name": "python3"
  },
  "language_info": {
   "codemirror_mode": {
    "name": "ipython",
    "version": 3
   },
   "file_extension": ".py",
   "mimetype": "text/x-python",
   "name": "python",
   "nbconvert_exporter": "python",
   "pygments_lexer": "ipython3",
   "version": "3.12.0"
  }
 },
 "nbformat": 4,
 "nbformat_minor": 2
}
