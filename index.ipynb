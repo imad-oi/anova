{
 "cells": [
  {
   "cell_type": "markdown",
   "metadata": {},
   "source": [
    "# Atelier  : ANOVA"
   ]
  },
  {
   "cell_type": "markdown",
   "metadata": {},
   "source": [
    "les noms  : \n",
    "1. OISSAFE Imad \n",
    "2. LATRACH EL Habib\n",
    "3. ENNASTY Hamza"
   ]
  },
  {
   "cell_type": "code",
   "execution_count": 12,
   "metadata": {},
   "outputs": [],
   "source": [
    "import numpy as np\n",
    "import pandas as pd\n",
    "import seaborn as sns\n",
    "from scipy.stats import f_oneway\n",
    "from statsmodels.stats.multicomp import pairwise_tukeyhsd\n",
    "import matplotlib.pyplot as plt"
   ]
  },
  {
   "cell_type": "markdown",
   "metadata": {},
   "source": [
    "## Partie 1 : ANOVA à un facteur avec mesures répétées "
   ]
  },
  {
   "cell_type": "markdown",
   "metadata": {},
   "source": [
    "Le jeu de données consiste en des mesures de pression artérielle de 15 patients effectuées à quatre moments différents (Time 1, Time 2, Time 3, Time 4). Chaque patient a été évalué à ces quatre périodes, et les données enregistrées représentent la pression artérielle mesurée à chaque session."
   ]
  },
  {
   "cell_type": "markdown",
   "metadata": {},
   "source": [
    "`les hypothèses`\n",
    "1. H0 (hypothèse nulle) : Il n'y a pas de différence significative entre les moyennes des mesures de pression artérielle à différents moments (Time 1, Time 2, Time 3, Time 4) et toutes les différences observées sont dues au hasard.\n",
    "2. H1 (hypothèse alternative) : Au moins une des moyennes des mesures de pression artérielle à différents moments est différente des autres."
   ]
  },
  {
   "cell_type": "code",
   "execution_count": 21,
   "metadata": {},
   "outputs": [],
   "source": [
    "import numpy as np\n",
    "import pandas as pd\n",
    "import seaborn as sns\n",
    "from scipy.stats import f_oneway , shapiro\n",
    "import matplotlib.pyplot as plt"
   ]
  },
  {
   "cell_type": "code",
   "execution_count": 22,
   "metadata": {},
   "outputs": [
    {
     "data": {
      "text/html": [
       "<div>\n",
       "<style scoped>\n",
       "    .dataframe tbody tr th:only-of-type {\n",
       "        vertical-align: middle;\n",
       "    }\n",
       "\n",
       "    .dataframe tbody tr th {\n",
       "        vertical-align: top;\n",
       "    }\n",
       "\n",
       "    .dataframe thead th {\n",
       "        text-align: right;\n",
       "    }\n",
       "</style>\n",
       "<table border=\"1\" class=\"dataframe\">\n",
       "  <thead>\n",
       "    <tr style=\"text-align: right;\">\n",
       "      <th></th>\n",
       "      <th>time1</th>\n",
       "      <th>time2</th>\n",
       "      <th>time3</th>\n",
       "      <th>time4</th>\n",
       "    </tr>\n",
       "  </thead>\n",
       "  <tbody>\n",
       "    <tr>\n",
       "      <th>0</th>\n",
       "      <td>110</td>\n",
       "      <td>149</td>\n",
       "      <td>145</td>\n",
       "      <td>134</td>\n",
       "    </tr>\n",
       "    <tr>\n",
       "      <th>1</th>\n",
       "      <td>113</td>\n",
       "      <td>133</td>\n",
       "      <td>134</td>\n",
       "      <td>125</td>\n",
       "    </tr>\n",
       "    <tr>\n",
       "      <th>2</th>\n",
       "      <td>113</td>\n",
       "      <td>134</td>\n",
       "      <td>139</td>\n",
       "      <td>136</td>\n",
       "    </tr>\n",
       "    <tr>\n",
       "      <th>3</th>\n",
       "      <td>149</td>\n",
       "      <td>127</td>\n",
       "      <td>129</td>\n",
       "      <td>150</td>\n",
       "    </tr>\n",
       "    <tr>\n",
       "      <th>4</th>\n",
       "      <td>119</td>\n",
       "      <td>147</td>\n",
       "      <td>129</td>\n",
       "      <td>123</td>\n",
       "    </tr>\n",
       "    <tr>\n",
       "      <th>5</th>\n",
       "      <td>129</td>\n",
       "      <td>135</td>\n",
       "      <td>124</td>\n",
       "      <td>123</td>\n",
       "    </tr>\n",
       "    <tr>\n",
       "      <th>6</th>\n",
       "      <td>131</td>\n",
       "      <td>123</td>\n",
       "      <td>149</td>\n",
       "      <td>150</td>\n",
       "    </tr>\n",
       "    <tr>\n",
       "      <th>7</th>\n",
       "      <td>146</td>\n",
       "      <td>118</td>\n",
       "      <td>142</td>\n",
       "      <td>138</td>\n",
       "    </tr>\n",
       "    <tr>\n",
       "      <th>8</th>\n",
       "      <td>133</td>\n",
       "      <td>119</td>\n",
       "      <td>111</td>\n",
       "      <td>120</td>\n",
       "    </tr>\n",
       "    <tr>\n",
       "      <th>9</th>\n",
       "      <td>116</td>\n",
       "      <td>130</td>\n",
       "      <td>119</td>\n",
       "      <td>135</td>\n",
       "    </tr>\n",
       "    <tr>\n",
       "      <th>10</th>\n",
       "      <td>134</td>\n",
       "      <td>126</td>\n",
       "      <td>142</td>\n",
       "      <td>120</td>\n",
       "    </tr>\n",
       "    <tr>\n",
       "      <th>11</th>\n",
       "      <td>134</td>\n",
       "      <td>115</td>\n",
       "      <td>141</td>\n",
       "      <td>120</td>\n",
       "    </tr>\n",
       "    <tr>\n",
       "      <th>12</th>\n",
       "      <td>122</td>\n",
       "      <td>125</td>\n",
       "      <td>120</td>\n",
       "      <td>130</td>\n",
       "    </tr>\n",
       "    <tr>\n",
       "      <th>13</th>\n",
       "      <td>111</td>\n",
       "      <td>110</td>\n",
       "      <td>133</td>\n",
       "      <td>98</td>\n",
       "    </tr>\n",
       "    <tr>\n",
       "      <th>14</th>\n",
       "      <td>148</td>\n",
       "      <td>128</td>\n",
       "      <td>145</td>\n",
       "      <td>101</td>\n",
       "    </tr>\n",
       "  </tbody>\n",
       "</table>\n",
       "</div>"
      ],
      "text/plain": [
       "    time1  time2  time3  time4\n",
       "0     110    149    145    134\n",
       "1     113    133    134    125\n",
       "2     113    134    139    136\n",
       "3     149    127    129    150\n",
       "4     119    147    129    123\n",
       "5     129    135    124    123\n",
       "6     131    123    149    150\n",
       "7     146    118    142    138\n",
       "8     133    119    111    120\n",
       "9     116    130    119    135\n",
       "10    134    126    142    120\n",
       "11    134    115    141    120\n",
       "12    122    125    120    130\n",
       "13    111    110    133     98\n",
       "14    148    128    145    101"
      ]
     },
     "execution_count": 22,
     "metadata": {},
     "output_type": "execute_result"
    }
   ],
   "source": [
    "# importation de jeu donnees\n",
    "\n",
    "df = pd.read_csv('dataset.csv').drop(columns=['Unnamed: 0'])\n",
    "df"
   ]
  },
  {
   "cell_type": "markdown",
   "metadata": {},
   "source": [
    "`visualisation de donnees`"
   ]
  },
  {
   "cell_type": "code",
   "execution_count": 23,
   "metadata": {},
   "outputs": [
    {
     "data": {
      "image/png": "[encoded data removed]",
      "text/plain": [
       "<Figure size 640x480 with 1 Axes>"
      ]
     },
     "metadata": {},
     "output_type": "display_data"
    }
   ],
   "source": [
    "\n",
    "\n",
    "# Melt DataFrame from wide format to long format for easier plotting\n",
    "df_melted = df.melt(var_name=\"Time\", value_name=\"Value\")\n",
    "\n",
    "# Create a boxplot\n",
    "sns.boxplot(x='Time', y='Value', data=df_melted)\n",
    "plt.title('Boxplot of Measurements over Time')\n",
    "plt.show()\n"
   ]
  },
  {
   "cell_type": "markdown",
   "metadata": {},
   "source": [
    " les boîtes dans le boxplot sont relativement similaires en taille et que les médianes sont proches les unes des autres, cela suggère que la dispersion des données à travers les différents moments est similaire."
   ]
  },
  {
   "cell_type": "markdown",
   "metadata": {},
   "source": [
    "**test de normalite des groupes**"
   ]
  },
  {
   "cell_type": "code",
   "execution_count": 24,
   "metadata": {},
   "outputs": [
    {
     "name": "stdout",
     "output_type": "stream",
     "text": [
      "time1 ShapiroResult(statistic=0.9114684462547302, pvalue=0.1426154524087906)\n",
      "---> la distribution de time1 est normale\n",
      "--------------------------------------------------\n",
      "time2 ShapiroResult(statistic=0.9630049467086792, pvalue=0.7444441914558411)\n",
      "---> la distribution de time2 est normale\n",
      "--------------------------------------------------\n",
      "time3 ShapiroResult(statistic=0.9454562067985535, pvalue=0.4559266269207001)\n",
      "---> la distribution de time3 est normale\n",
      "--------------------------------------------------\n",
      "time4 ShapiroResult(statistic=0.9387900233268738, pvalue=0.36739906668663025)\n",
      "---> la distribution de time4 est normale\n",
      "--------------------------------------------------\n"
     ]
    }
   ],
   "source": [
    "# test de shapiro pour verifier la normalite des donnees\n",
    "\n",
    "for i in df.columns:\n",
    "    print(i, shapiro(df[i]))\n",
    "\n",
    "    if shapiro(df[i])[1] < 0.05:\n",
    "        print('---> la distribution de', i, 'n est pas normale')\n",
    "        print('-'*50)\n",
    "    else:\n",
    "        print('---> la distribution de', i, 'est normale')\n",
    "        print('-'*50)\n"
   ]
  },
  {
   "cell_type": "markdown",
   "metadata": {},
   "source": [
    "**test de homogeneite des variances**"
   ]
  },
  {
   "cell_type": "code",
   "execution_count": 25,
   "metadata": {},
   "outputs": [
    {
     "name": "stdout",
     "output_type": "stream",
     "text": [
      "Statistics=0.721, p=0.544\n",
      "les variances sont egales\n"
     ]
    }
   ],
   "source": [
    "from scipy.stats import levene\n",
    "\n",
    "# Perform Levene's test\n",
    "stat, p = levene(df['time1'], df['time2'], df['time3'], df['time4'])\n",
    "\n",
    "# affichage des resultats\n",
    "print('Statistics=%.3f, p=%.3f' % (stat, p))\n",
    "\n",
    "if p > 0.05:\n",
    "    print(\"les variances sont egales\")\n",
    "else:\n",
    "    print(\"les variances ne sont pas egales\")"
   ]
  },
  {
   "cell_type": "markdown",
   "metadata": {},
   "source": [
    "les condition sont vérifier, donc on peut appliquer le test ANOVA"
   ]
  },
  {
   "cell_type": "code",
   "execution_count": 28,
   "metadata": {},
   "outputs": [
    {
     "name": "stdout",
     "output_type": "stream",
     "text": [
      "Resultat de test : F = 0.8900658614212926 , p = 0.4519906064207322\n"
     ]
    }
   ],
   "source": [
    "\n",
    "f_val, p_val = f_oneway(df['time1'], df['time2'], df['time3'], df['time4'])\n",
    "\n",
    "print(\"Resultat de test : F =\", f_val, \", p =\", p_val)"
   ]
  },
  {
   "cell_type": "markdown",
   "metadata": {},
   "source": [
    "`interpretation du resultats`"
   ]
  },
  {
   "cell_type": "markdown",
   "metadata": {},
   "source": [
    "1. L'F-score (0.89) est relativement proche de 1, ce qui suggère que la variance entre les moyennes des groupes est similaire à la variance à l'intérieur des groupes.\n",
    "\n",
    "2. La p-value associée (0.452) est supérieure à un seuil de signification de 0.05. Cette p-value élevée indique qu'il n'y a pas suffisamment de preuves pour rejeter l'hypothèse nulle. En d'autres termes, cela suggère qu'il n'y a pas de différence significative entre les moyennes des mesures de pression artérielle à différents moments (Time 1, Time 2, Time 3, Time 4)."
   ]
  }
 ],
 "metadata": {
  "kernelspec": {
   "display_name": "Python 3",
   "language": "python",
   "name": "python3"
  },
  "language_info": {
   "codemirror_mode": {
    "name": "ipython",
    "version": 3
   },
   "file_extension": ".py",
   "mimetype": "text/x-python",
   "name": "python",
   "nbconvert_exporter": "python",
   "pygments_lexer": "ipython3",
   "version": "3.12.0"
  }
 },
 "nbformat": 4,
 "nbformat_minor": 2
}
